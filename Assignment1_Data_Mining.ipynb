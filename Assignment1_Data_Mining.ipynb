{
 "cells": [
  {
   "cell_type": "code",
   "execution_count": 1,
   "metadata": {
    "collapsed": true
   },
   "outputs": [],
   "source": [
    "from astropy.table import Table\n",
    "import numpy as np\n",
    "from collections import Counter\n",
    "%matplotlib inline"
   ]
  },
  {
   "cell_type": "code",
   "execution_count": 1,
   "metadata": {
    "collapsed": false
   },
   "outputs": [
    {
     "ename": "ValueError",
     "evalue": "invalid literal for int() with base 10: 'Toy Story (1995)'",
     "output_type": "error",
     "traceback": [
      "\u001b[0;31m---------------------------------------------------------------------------\u001b[0m",
      "\u001b[0;31mValueError\u001b[0m                                Traceback (most recent call last)",
      "\u001b[0;32m<ipython-input-1-28bb7562a99a>\u001b[0m in \u001b[0;36m<module>\u001b[0;34m()\u001b[0m\n\u001b[1;32m     22\u001b[0m     \u001b[0;31m#print line\u001b[0m\u001b[0;34m\u001b[0m\u001b[0;34m\u001b[0m\u001b[0m\n\u001b[1;32m     23\u001b[0m     \u001b[0mdata_m\u001b[0m \u001b[0;34m=\u001b[0m \u001b[0mline\u001b[0m\u001b[0;34m.\u001b[0m\u001b[0msplit\u001b[0m\u001b[0;34m(\u001b[0m\u001b[0;34m'::'\u001b[0m\u001b[0;34m)\u001b[0m\u001b[0;34m\u001b[0m\u001b[0m\n\u001b[0;32m---> 24\u001b[0;31m     \u001b[0mmovies\u001b[0m\u001b[0;34m.\u001b[0m\u001b[0mappend\u001b[0m\u001b[0;34m(\u001b[0m\u001b[0;34m[\u001b[0m\u001b[0mint\u001b[0m\u001b[0;34m(\u001b[0m\u001b[0mz\u001b[0m\u001b[0;34m)\u001b[0m \u001b[0;32mfor\u001b[0m \u001b[0mz\u001b[0m \u001b[0;32min\u001b[0m \u001b[0mdata_m\u001b[0m\u001b[0;34m[\u001b[0m\u001b[0;34m:\u001b[0m\u001b[0;36m2\u001b[0m\u001b[0;34m]\u001b[0m\u001b[0;34m]\u001b[0m\u001b[0;34m)\u001b[0m\u001b[0;34m\u001b[0m\u001b[0m\n\u001b[0m\u001b[1;32m     25\u001b[0m \u001b[0mm\u001b[0m\u001b[0;34m.\u001b[0m\u001b[0mclose\u001b[0m\u001b[0;34m(\u001b[0m\u001b[0;34m)\u001b[0m\u001b[0;34m\u001b[0m\u001b[0m\n\u001b[1;32m     26\u001b[0m \u001b[0;34m\u001b[0m\u001b[0m\n",
      "\u001b[0;31mValueError\u001b[0m: invalid literal for int() with base 10: 'Toy Story (1995)'"
     ]
    }
   ],
   "source": [
    "# movies=Table.read('movies.dat', format='ascii', delimiter='::', guess=False) \n",
    "# #print len (t['12+log(O/H)'])\n",
    "# #metallicities=t['12+log(O/H)']\n",
    "\n",
    "# #movies (genre, title, production year)\n",
    "# ratings=Table.read('ratings.dat', format='ascii', delimiter='::', guess=False) \n",
    "# users=Table.read('users.dat', format='ascii', delimiter='::', guess=False) \n",
    "# #users (gender, age, occupation)\n",
    "\n",
    "#ratings=read_data(\"ratings.dat\")\n",
    "ratings=[]\n",
    "r = open('ratings.dat', 'r')\n",
    "for line in r:\n",
    "    data_r = line.split('::')\n",
    "    ratings.append([int(z) for z in data_r[:2]])\n",
    "r.close()\n",
    "\n",
    "\n",
    "movies=[]\n",
    "m = open('movies.dat', 'r')\n",
    "for line in m:\n",
    "    #print line\n",
    "    data_m = line.split('::')\n",
    "    movies.append([int(z) for z in data_m[:2]])\n",
    "m.close()\n",
    "\n",
    "\n",
    "users=[]\n",
    "u = open('users.dat', 'r')\n",
    "for line in u:\n",
    "    data_u = line.split('::')\n",
    "    users.append([int(z) for z in data_u[:2]])\n",
    "u.close()\n",
    "\n",
    "#ratings= user,movie,rating"
   ]
  },
  {
   "cell_type": "code",
   "execution_count": 15,
   "metadata": {
    "collapsed": false
   },
   "outputs": [
    {
     "name": "stdout",
     "output_type": "stream",
     "text": [
      "3.58156445303\n"
     ]
    }
   ],
   "source": [
    "print np.mean(ratings[:,-1])\n",
    "print "
   ]
  },
  {
   "cell_type": "code",
   "execution_count": null,
   "metadata": {
    "collapsed": false
   },
   "outputs": [],
   "source": []
  },
  {
   "cell_type": "code",
   "execution_count": 20,
   "metadata": {
    "collapsed": false
   },
   "outputs": [],
   "source": [
    "\n",
    "import matplotlib.pyplot as plt\n",
    "import numpy as np\n",
    "import pandas as pd \n",
    "#load data\n",
    "#ratings=read_data(\"ratings.dat\")\n",
    "ratings=[]\n",
    "f = open(\"ratings.dat\", 'r')\n",
    "for line in f:\n",
    "    data = line.split('::')\n",
    "    ratings.append([int(z) for z in data[:3]])\n",
    "f.close()\n",
    "ratings=np.array(ratings)\n",
    "\n",
    "\"\"\"\n",
    "Alternatively, instead of reading data file line by line you could use the Numpy\n",
    "genfromtxt() function. For example:\n",
    "\n",
    "ratings = np.genfromtxt(\"ratings.dat\", usecols=(0, 1, 2), delimiter='::', dtype='int')\n",
    "\n",
    "will create an array with 3 columns.\n",
    "\n",
    "Additionally, you may now save the rating matrix into a binary file \n",
    "and later reload it very quickly: study the np.save and np.load functions.\n",
    "\"\"\"\n",
    "\n",
    "\n",
    "#split data into 5 train and test folds\n",
    "nfolds=5\n",
    "\n",
    "#allocate memory for results:\n",
    "err_train=np.zeros(nfolds)\n",
    "err_test=np.zeros(nfolds)\n",
    "mae_train=np.zeros(nfolds)\n",
    "mae_test=np.zeros(nfolds)\n",
    "#to make sure you are able to repeat results, set the random seed to something:\n",
    "np.random.seed(17)\n",
    "\n",
    "seqs=[x%nfolds for x in range(len(ratings))]\n",
    "#print np.shape(seqs)\n",
    "np.random.shuffle(seqs)\n",
    "\n",
    "#for each fold:\n",
    "for fold in range(nfolds):\n",
    "    train_sel=np.array([x!=fold for x in seqs])\n",
    "    test_sel=np.array([x==fold for x in seqs])\n",
    "    train=ratings[train_sel]\n",
    "    test=ratings[test_sel]\n",
    "#     print len(train)\n",
    "#     print len(test)\n",
    "\n",
    "    df = pd.DataFrame(ratings)\n",
    "\n",
    "\n",
    "\n",
    "#     reg = linear_model.LinearRegression()\n",
    "#     reg.fit (train,test)\n",
    "#     print(reg.coef_)\n",
    "#     print(reg.intercept_)\n",
    "#calculate model parameters: mean rating over the training set:\n",
    "gmr=np.mean(train[:,2])\n",
    "\n",
    "#apply the model to the train set:\n",
    "err_train[fold]=np.sqrt(np.mean((train[:,2]-np.mean(gmr))**2))\n",
    "\n",
    "mae_train[fold]=np.mean(np.abs(train[:,2]-np.mean(gmr)))\n",
    "#apply the model to the test set:\n",
    "err_test[fold]=np.sqrt(np.mean((test[:,2]-np.mean(gmr))**2))\n",
    "mae_test[fold]=np.mean(np.abs(train[:,2]-np.mean(gmr)))\n",
    "\n",
    "#print errors:\n",
    "#     print(\"Fold \" + str(fold) + \": RMSE_train=\" + str(err_train[fold]) + \"; RMSE_test=\" + str(err_test[fold]))\n",
    "\n",
    "# #print the final conclusion:\n",
    "# print(\"\\n\")\n",
    "# print(\"Mean error on TRAIN: \" + str(np.mean(err_train)))\n",
    "# print(\"Mean error on  TEST: \" + str(np.mean(err_test)))\n",
    "# print (\"Mean abs error on TRAIN:\" + str(np.mean(mae_train)))\n",
    "# print (\"Mean abs error on TEST:\" + str(np.mean(mae_test)))\n",
    "# Just in case you need linear regression: help(np.linalg.lstsq) will tell you \n",
    "# how to do it!"
   ]
  },
  {
   "cell_type": "code",
   "execution_count": null,
   "metadata": {
    "collapsed": true
   },
   "outputs": [],
   "source": []
  },
  {
   "cell_type": "code",
   "execution_count": 198,
   "metadata": {
    "collapsed": false
   },
   "outputs": [
    {
     "name": "stdout",
     "output_type": "stream",
     "text": [
      "0.356596391897\n"
     ]
    }
   ],
   "source": [
    "####Each user rating average\n",
    "all_u=[]\n",
    "un_numbers=len((set(ratings[:,0])))\n",
    "un_numbers=np.arange(1,un_numbers+1)\n",
    "\n",
    "c=Counter(ratings[:,0])\n",
    "for i in un_numbers:\n",
    "    num_ratings=c[i]\n",
    "    #print num_ratings\n",
    "#     print num_ratings\n",
    "    \n",
    "    #print(np.mean(ratings[:,2][0:num_ratings]))\n",
    "    all_u.append(np.mean(ratings[:,2][np.where(ratings[:,0]==i)[0][0]:np.where(ratings[:,0]==i)[0][0]+num_ratings]))\n",
    "all_urms=np.sqrt((all_u-np.mean(ratings[:,2]))**2)\n",
    "print np.nanmean(all_urms)"
   ]
  },
  {
   "cell_type": "code",
   "execution_count": 142,
   "metadata": {
    "collapsed": false
   },
   "outputs": [
    {
     "name": "stdout",
     "output_type": "stream",
     "text": [
      "40 2117\n",
      "839 1540\n",
      "3406 3884\n",
      "583 753\n",
      "3408 3704\n",
      "297 1237\n",
      "842 1300\n",
      "10127 10195\n",
      "9649 9751\n",
      "1395 2283\n",
      "2943 3976\n",
      "11645 11805\n",
      "5452 5551\n",
      "651 804\n",
      "6896 7042\n",
      "387 1069\n",
      "501 1336\n",
      "7812 7969\n",
      "6901 7290\n",
      "15680 15840\n",
      "148 1504\n",
      "7835 8213\n",
      "7243 7369\n",
      "421 1045\n",
      "677 1657\n",
      "2073 2173\n",
      "29270 29331\n",
      "4235 4414\n",
      "426 829\n",
      "1823 1897\n",
      "25666 25807\n",
      "442 1953\n",
      "138787 138791\n",
      "447 2198\n",
      "6315 6385\n",
      "450 1378\n",
      "75509 75517\n",
      "3564 3592\n",
      "257 1619\n",
      "9966 9996\n",
      "278 520\n",
      "566 787\n",
      "10030 10196\n",
      "2120 2431\n",
      "3016 3560\n",
      "5478 5644\n",
      "283 1420\n",
      "25 407\n",
      "51209 51236\n",
      "303 2086\n"
     ]
    },
    {
     "ename": "IndexError",
     "evalue": "index 0 is out of bounds for axis 0 with size 0",
     "output_type": "error",
     "traceback": [
      "\u001b[0;31m---------------------------------------------------------------------------\u001b[0m",
      "\u001b[0;31mIndexError\u001b[0m                                Traceback (most recent call last)",
      "\u001b[0;32m<ipython-input-142-18ceb72757bf>\u001b[0m in \u001b[0;36m<module>\u001b[0;34m()\u001b[0m\n\u001b[1;32m     18\u001b[0m     \u001b[0;31m#print(np.mean(ratings[:,2][0:num_ratings]))\u001b[0m\u001b[0;34m\u001b[0m\u001b[0;34m\u001b[0m\u001b[0m\n\u001b[1;32m     19\u001b[0m     \u001b[0;31m#all_m.append(np.mean(ratings[:,2][np.where(ratings[:,1]==i)[0][0]:np.where(ratings[:,1]==i)[0][0]+num_ratings]))\u001b[0m\u001b[0;34m\u001b[0m\u001b[0;34m\u001b[0m\u001b[0m\n\u001b[0;32m---> 20\u001b[0;31m     \u001b[0;32mprint\u001b[0m \u001b[0mnp\u001b[0m\u001b[0;34m.\u001b[0m\u001b[0mwhere\u001b[0m\u001b[0;34m(\u001b[0m\u001b[0mratings\u001b[0m\u001b[0;34m[\u001b[0m\u001b[0;34m:\u001b[0m\u001b[0;34m,\u001b[0m\u001b[0;36m1\u001b[0m\u001b[0;34m]\u001b[0m\u001b[0;34m==\u001b[0m\u001b[0mi\u001b[0m\u001b[0;34m)\u001b[0m\u001b[0;34m[\u001b[0m\u001b[0;36m0\u001b[0m\u001b[0;34m]\u001b[0m\u001b[0;34m[\u001b[0m\u001b[0;36m0\u001b[0m\u001b[0;34m]\u001b[0m\u001b[0;34m,\u001b[0m\u001b[0mnp\u001b[0m\u001b[0;34m.\u001b[0m\u001b[0mwhere\u001b[0m\u001b[0;34m(\u001b[0m\u001b[0mratings\u001b[0m\u001b[0;34m[\u001b[0m\u001b[0;34m:\u001b[0m\u001b[0;34m,\u001b[0m\u001b[0;36m1\u001b[0m\u001b[0;34m]\u001b[0m\u001b[0;34m==\u001b[0m\u001b[0mi\u001b[0m\u001b[0;34m)\u001b[0m\u001b[0;34m[\u001b[0m\u001b[0;36m0\u001b[0m\u001b[0;34m]\u001b[0m\u001b[0;34m[\u001b[0m\u001b[0;36m0\u001b[0m\u001b[0;34m]\u001b[0m\u001b[0;34m+\u001b[0m\u001b[0mnum_ratings\u001b[0m\u001b[0;34m\u001b[0m\u001b[0m\n\u001b[0m\u001b[1;32m     21\u001b[0m \u001b[0mall_mrms\u001b[0m\u001b[0;34m=\u001b[0m\u001b[0mnp\u001b[0m\u001b[0;34m.\u001b[0m\u001b[0msqrt\u001b[0m\u001b[0;34m(\u001b[0m\u001b[0;34m(\u001b[0m\u001b[0mall_m\u001b[0m\u001b[0;34m-\u001b[0m\u001b[0mnp\u001b[0m\u001b[0;34m.\u001b[0m\u001b[0mmean\u001b[0m\u001b[0;34m(\u001b[0m\u001b[0mratings\u001b[0m\u001b[0;34m[\u001b[0m\u001b[0;34m:\u001b[0m\u001b[0;34m,\u001b[0m\u001b[0;36m2\u001b[0m\u001b[0;34m]\u001b[0m\u001b[0;34m)\u001b[0m\u001b[0;34m)\u001b[0m\u001b[0;34m**\u001b[0m\u001b[0;36m2\u001b[0m\u001b[0;34m)\u001b[0m\u001b[0;34m\u001b[0m\u001b[0m\n\u001b[1;32m     22\u001b[0m \u001b[0;34m\u001b[0m\u001b[0m\n",
      "\u001b[0;31mIndexError\u001b[0m: index 0 is out of bounds for axis 0 with size 0"
     ]
    }
   ],
   "source": [
    "#####Each movie rating average\n",
    "\n",
    "un_numbers=len((set(ratings[:,1])))\n",
    "un_numbers=np.arange(1,un_numbers+1)\n",
    "# user_id=ratings[:,0]\n",
    "# rate=ratings[:,2]\n",
    "# dict_list = zip(user_id,rate)\n",
    "# dict_list=dict(dict_list)\n",
    "# print len(dict_list)\n",
    "#print un_number\n",
    "all_m=[]\n",
    "c=Counter(ratings[:,1])\n",
    "for i in un_numbers:\n",
    "    num_ratings=c[i]\n",
    "    #print num_ratings\n",
    "#     print num_ratings\n",
    "    \n",
    "    #print(np.mean(ratings[:,2][0:num_ratings]))\n",
    "    #all_m.append(np.mean(ratings[:,2][np.where(ratings[:,1]==i)[0][0]:np.where(ratings[:,1]==i)[0][0]+num_ratings]))\n",
    "#     print np.where(ratings[:,1]==i)[0][0],np.where(ratings[:,1]==i)[0][0]+num_ratings\n",
    "all_mrms=np.sqrt((all_m-np.mean(ratings[:,2]))**2)\n",
    "\n",
    "# print np.nanmean(all_mrms)"
   ]
  },
  {
   "cell_type": "code",
   "execution_count": 212,
   "metadata": {
    "collapsed": false
   },
   "outputs": [
    {
     "name": "stdout",
     "output_type": "stream",
     "text": [
      "3.23889217791\n"
     ]
    }
   ],
   "source": [
    "import numpy as np\n",
    "import pandas as pd \n",
    "\n",
    "#load data\n",
    "#ratings=read_data(\"ratings.dat\")\n",
    "ratings=[]\n",
    "f = open(\"ratings.dat\", 'r')\n",
    "for line in f:\n",
    "    data = line.split('::')\n",
    "    ratings.append([int(z) for z in data[:3]])\n",
    "f.close()\n",
    "ratings=np.array(ratings)\n",
    "\n",
    "\n",
    "\n",
    "#####Each movie rating average\n",
    "\n",
    "####converting dataset to dataframe \n",
    "df = pd.DataFrame(ratings)\n",
    "\n",
    "##calculating the mean of each movie id \n",
    "c =df.groupby(1, as_index=False)[2].mean()\n",
    "dfm = c[2]\n",
    "dfm.fillna(gmr)\n",
    "print np.mean(dfm)\n",
    "movie_column = np.array(dfm)\n",
    "all_urms=np.sqrt((movie_column-np.mean(ratings[:,2]))**2) \n",
    "\n",
    "df = pd.DataFrame(ratings)\n",
    "\n",
    "\n",
    "###starting if the folds \n",
    "df = pd.DataFrame(train)\n",
    "train_1 = df.groupby(0, as_index=False)[2].mean()\n",
    "# print train_1\n",
    "\n",
    "\n",
    "dff = pd.DataFrame(test)\n",
    "test_1 = dff.groupby(0, as_index=False)[2].mean()\n",
    "# print len(test_1)\n",
    "\n",
    "\n",
    "\n",
    "#####"
   ]
  },
  {
   "cell_type": "code",
   "execution_count": 205,
   "metadata": {
    "collapsed": false
   },
   "outputs": [
    {
     "name": "stdout",
     "output_type": "stream",
     "text": [
      "0.572515096735\n"
     ]
    }
   ],
   "source": [
    "print np.mean(all_urms)"
   ]
  },
  {
   "cell_type": "code",
   "execution_count": 215,
   "metadata": {
    "collapsed": false
   },
   "outputs": [
    {
     "name": "stdout",
     "output_type": "stream",
     "text": [
      "3.702704867\n"
     ]
    }
   ],
   "source": [
    "\n",
    "c=df.groupby(0, as_index=False)[2].mean()\n",
    "dfu=c[2]\n",
    "dfu.fillna(gmr)\n",
    "print np.mean(dfu)\n"
   ]
  },
  {
   "cell_type": "code",
   "execution_count": 218,
   "metadata": {
    "collapsed": false
   },
   "outputs": [
    {
     "data": {
      "text/plain": [
       "0.12055461855190017"
      ]
     },
     "execution_count": 218,
     "metadata": {},
     "output_type": "execute_result"
    }
   ],
   "source": [
    "np.abs(np.mean((train[:,2]-np.mean(dfu))))"
   ]
  },
  {
   "cell_type": "code",
   "execution_count": 7,
   "metadata": {
    "collapsed": false
   },
   "outputs": [
    {
     "name": "stdout",
     "output_type": "stream",
     "text": [
      "(200,)\n",
      "(200,)\n"
     ]
    },
    {
     "ename": "AttributeError",
     "evalue": "'LinearRegression' object has no attribute 'coef_'",
     "output_type": "error",
     "traceback": [
      "\u001b[0;31m---------------------------------------------------------------------------\u001b[0m",
      "\u001b[0;31mAttributeError\u001b[0m                            Traceback (most recent call last)",
      "\u001b[0;32m<ipython-input-7-87382279d82a>\u001b[0m in \u001b[0;36m<module>\u001b[0;34m()\u001b[0m\n\u001b[1;32m      5\u001b[0m \u001b[0;32mprint\u001b[0m \u001b[0mnp\u001b[0m\u001b[0;34m.\u001b[0m\u001b[0mshape\u001b[0m\u001b[0;34m(\u001b[0m\u001b[0mratings\u001b[0m\u001b[0;34m[\u001b[0m\u001b[0;34m:\u001b[0m\u001b[0;34m,\u001b[0m\u001b[0;36m2\u001b[0m\u001b[0;34m]\u001b[0m\u001b[0;34m[\u001b[0m\u001b[0;36m0\u001b[0m\u001b[0;34m:\u001b[0m\u001b[0;36m200\u001b[0m\u001b[0;34m]\u001b[0m\u001b[0;34m)\u001b[0m\u001b[0;34m\u001b[0m\u001b[0m\n\u001b[1;32m      6\u001b[0m \u001b[0;32mprint\u001b[0m \u001b[0mnp\u001b[0m\u001b[0;34m.\u001b[0m\u001b[0mshape\u001b[0m\u001b[0;34m(\u001b[0m\u001b[0mratings\u001b[0m\u001b[0;34m[\u001b[0m\u001b[0;34m:\u001b[0m\u001b[0;34m,\u001b[0m\u001b[0;36m2\u001b[0m\u001b[0;34m]\u001b[0m\u001b[0;34m[\u001b[0m\u001b[0;36m0\u001b[0m\u001b[0;34m:\u001b[0m\u001b[0;36m200\u001b[0m\u001b[0;34m]\u001b[0m\u001b[0;34m)\u001b[0m\u001b[0;34m\u001b[0m\u001b[0m\n\u001b[0;32m----> 7\u001b[0;31m \u001b[0;32mprint\u001b[0m\u001b[0;34m(\u001b[0m\u001b[0mreg\u001b[0m\u001b[0;34m.\u001b[0m\u001b[0mcoef_\u001b[0m\u001b[0;34m)\u001b[0m\u001b[0;34m\u001b[0m\u001b[0m\n\u001b[0m\u001b[1;32m      8\u001b[0m \u001b[0;32mprint\u001b[0m\u001b[0;34m(\u001b[0m\u001b[0mreg\u001b[0m\u001b[0;34m.\u001b[0m\u001b[0mintercept_\u001b[0m\u001b[0;34m)\u001b[0m\u001b[0;34m\u001b[0m\u001b[0m\n",
      "\u001b[0;31mAttributeError\u001b[0m: 'LinearRegression' object has no attribute 'coef_'"
     ]
    }
   ],
   "source": [
    "from sklearn import linear_model\n",
    "\n",
    "reg = linear_model.LinearRegression()\n",
    "#reg.fit (ratings[:,2][0:200],ratings[:,2][200:400])\n",
    "print np.shape(ratings[:,2][0:200])\n",
    "print np.shape(ratings[:,2][0:200])\n",
    "print(reg.coef_)\n",
    "print(reg.intercept_)"
   ]
  },
  {
   "cell_type": "code",
   "execution_count": 231,
   "metadata": {
    "collapsed": false
   },
   "outputs": [
    {
     "name": "stdout",
     "output_type": "stream",
     "text": [
      "200\n",
      "200\n"
     ]
    }
   ],
   "source": []
  },
  {
   "cell_type": "code",
   "execution_count": 273,
   "metadata": {
    "collapsed": false
   },
   "outputs": [
    {
     "name": "stdout",
     "output_type": "stream",
     "text": [
      "[[  9.99979105e-01  -8.85269148e-06  -6.19996902e-02]\n",
      " [ -1.03180213e-02   5.97731349e-03  -2.49239120e-01]\n",
      " [  7.80987289e-06   2.30425627e-06   5.33463777e-02]]\n",
      "[ -9.85262480e-01   1.88644158e+03   3.36219747e+00]\n",
      "3.64059913424\n"
     ]
    }
   ],
   "source": [
    "\n",
    "reg = linear_model.LinearRegression()\n",
    "reg.fit (train,test[1:])\n",
    "print(reg.coef_)\n",
    "print(reg.intercept_)\n",
    "\n",
    "print reg.coef_[0][0]*np.mean(dfu) +reg.coef_[0][1]*np.mean(dfm) +reg.coef_[0][2]\n"
   ]
  },
  {
   "cell_type": "code",
   "execution_count": 262,
   "metadata": {
    "collapsed": false
   },
   "outputs": [
    {
     "name": "stdout",
     "output_type": "stream",
     "text": [
      "[  9.99979105e-01  -8.85269148e-06  -6.19996902e-02]\n"
     ]
    }
   ],
   "source": [
    "print (reg.coef_)[0]"
   ]
  },
  {
   "cell_type": "code",
   "execution_count": 16,
   "metadata": {
    "collapsed": false
   },
   "outputs": [
    {
     "name": "stdout",
     "output_type": "stream",
     "text": [
      "[ 2.  2.  3.  5.  3.]\n"
     ]
    }
   ],
   "source": [
    "x=np.array([2,2,3,5,3])*1.0\n",
    "print x"
   ]
  },
  {
   "cell_type": "code",
   "execution_count": 53,
   "metadata": {
    "collapsed": false
   },
   "outputs": [
    {
     "name": "stdout",
     "output_type": "stream",
     "text": [
      "[[  1.00000000e+00   1.19300000e+03   2.26000000e+02]\n",
      " [  1.00000000e+00   6.61000000e+02   2.26000000e+02]\n",
      " [  1.00000000e+00   9.14000000e+02   4.80000000e+01]\n",
      " ..., \n",
      " [  6.04000000e+03   5.62000000e+02   5.00000000e+00]\n",
      " [  6.04000000e+03   1.09600000e+03   4.00000000e+00]\n",
      " [  6.04000000e+03   1.09700000e+03   4.00000000e+00]]\n",
      "48\n"
     ]
    }
   ],
   "source": [
    "print ratings/1.0\n",
    "ratings[2,2]=48.77\n",
    "print ratings[2,2]"
   ]
  },
  {
   "cell_type": "code",
   "execution_count": null,
   "metadata": {
    "collapsed": true
   },
   "outputs": [],
   "source": []
  }
 ],
 "metadata": {
  "anaconda-cloud": {},
  "kernelspec": {
   "display_name": "Python [Root]",
   "language": "python",
   "name": "Python [Root]"
  },
  "language_info": {
   "codemirror_mode": {
    "name": "ipython",
    "version": 2
   },
   "file_extension": ".py",
   "mimetype": "text/x-python",
   "name": "python",
   "nbconvert_exporter": "python",
   "pygments_lexer": "ipython2",
   "version": "2.7.12"
  }
 },
 "nbformat": 4,
 "nbformat_minor": 0
}
